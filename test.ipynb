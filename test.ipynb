{
 "cells": [
  {
   "cell_type": "markdown",
   "metadata": {},
   "source": [
    "#### Things that didn't work but maybe would have been cool:\n",
    "* [SerpApi Google Reverse Image Search](https://serpapi.com/google-reverse-image) - could have reverse google image searched to link helpful articles (khan academy or wikipedia or some shit) if the equation you sent was found somewhere; unfortunately seems to be deprecated or something as the results don't match the query (playground [here](https://serpapi.com/playground?engine=google_reverse_image&image_url=https%3A%2F%2Fi.imgur.com%2FHBrB8p0.png&device=desktop))"
   ]
  },
  {
   "cell_type": "code",
   "execution_count": 5,
   "metadata": {},
   "outputs": [
    {
     "name": "stdout",
     "output_type": "stream",
     "text": [
      "https://serpapi.com/search\n"
     ]
    },
    {
     "data": {
      "text/plain": [
       "[{'link': 'https://www.google.com/search?tbs=simg%3ACAES9wEJCeN-Bvte8fca6wELELCMpwgaOgo4CAQSFKY10hf0J4EBmyaGK-4HkxnBN6UvGhr7dpRMM-ougJM5tRm4_1zLe5MaHlkL4Q_1diGyAFMAQMCxCOrv4IGgoKCAgBEgRY3X4YDAsQne3BCRqLAQoWCgNkb3TapYj2AwsKCS9tLzAyN2N0ZwobCgh2ZXJ0aWNhbNqliPYDCwoJL2EvNGhoM3AwChsKCGxhbmd1YWdl2qWI9gMLCgkvai8yc2hfeTQKHQoKaG9yaXpvbnRhbNqliPYDCwoJL2EvMm1xdnpjChgKBWVtcHR52qWI9gMLCgkvYS9kcjFxd20M&q=world+marketing+group&tbm=isch&sa=X&ved=2ahUKEwj15a7F5Jj7AhXNEGIAHXVkBxkQ5r0BegQIERAA#imgrc=-5HwZvML7z8WwM',\n",
       "  'source': 'https://quizlet.com/explanations/questions/conde-nast-traveler-publishes-a-gold-list-of-the-top-hotels-all-over-the-world-the-broadmoor-hotel-i-9d72fed0-e8c6-4a0b-8149-a8d173fd62d9',\n",
       "  'thumbnail': 'https://serpapi.com/searches/636741111988e530e9c6f807/images/a8761f2ba0ab0f0163ac0cdcf2844a13efda542a5296e109546611951b4d31cb.png'},\n",
       " {'link': 'https://www.google.com/search?tbs=simg%3ACAES9wEJCeN-Bvte8fca6wELELCMpwgaOgo4CAQSFKY10hf0J4EBmyaGK-4HkxnBN6UvGhr7dpRMM-ougJM5tRm4_1zLe5MaHlkL4Q_1diGyAFMAQMCxCOrv4IGgoKCAgBEgRY3X4YDAsQne3BCRqLAQoWCgNkb3TapYj2AwsKCS9tLzAyN2N0ZwobCgh2ZXJ0aWNhbNqliPYDCwoJL2EvNGhoM3AwChsKCGxhbmd1YWdl2qWI9gMLCgkvai8yc2hfeTQKHQoKaG9yaXpvbnRhbNqliPYDCwoJL2EvMm1xdnpjChgKBWVtcHR52qWI9gMLCgkvYS9kcjFxd20M&q=world+marketing+group&tbm=isch&sa=X&ved=2ahUKEwj15a7F5Jj7AhXNEGIAHXVkBxkQ5r0BegQIHBAA#imgrc=R9waN5Rix8gPQM',\n",
       "  'source': 'https://quizlet.com/explanations/questions/conde-nast-traveler-publishes-a-gold-list-of-the-top-hotels-all-over-the-world-the-broadmoor-hotel-i-9d72fed0-e8c6-4a0b-8149-a8d173fd62d9',\n",
       "  'thumbnail': 'https://serpapi.com/searches/636741111988e530e9c6f807/images/a8761f2ba0ab0f01f86be115a23505ac2cfcb0fbb261c13256d2a544927d2d1e.png'},\n",
       " {'link': 'https://www.google.com/search?tbs=simg%3ACAES9wEJCeN-Bvte8fca6wELELCMpwgaOgo4CAQSFKY10hf0J4EBmyaGK-4HkxnBN6UvGhr7dpRMM-ougJM5tRm4_1zLe5MaHlkL4Q_1diGyAFMAQMCxCOrv4IGgoKCAgBEgRY3X4YDAsQne3BCRqLAQoWCgNkb3TapYj2AwsKCS9tLzAyN2N0ZwobCgh2ZXJ0aWNhbNqliPYDCwoJL2EvNGhoM3AwChsKCGxhbmd1YWdl2qWI9gMLCgkvai8yc2hfeTQKHQoKaG9yaXpvbnRhbNqliPYDCwoJL2EvMm1xdnpjChgKBWVtcHR52qWI9gMLCgkvYS9kcjFxd20M&q=world+marketing+group&tbm=isch&sa=X&ved=2ahUKEwj15a7F5Jj7AhXNEGIAHXVkBxkQ5r0BegQIExAA#imgrc=JRk9inDo0lS7LM',\n",
       "  'source': 'https://quizlet.com/explanations/questions/conde-nast-traveler-publishes-a-gold-list-of-the-top-hotels-all-over-the-world-the-broadmoor-hotel-i-9d72fed0-e8c6-4a0b-8149-a8d173fd62d9',\n",
       "  'thumbnail': 'https://serpapi.com/searches/636741111988e530e9c6f807/images/a8761f2ba0ab0f01d051455cd7d980c6c5cbba4c5206ffe1747117054876d38e.png'},\n",
       " {'link': 'https://www.google.com/search?tbs=simg%3ACAES9wEJCeN-Bvte8fca6wELELCMpwgaOgo4CAQSFKY10hf0J4EBmyaGK-4HkxnBN6UvGhr7dpRMM-ougJM5tRm4_1zLe5MaHlkL4Q_1diGyAFMAQMCxCOrv4IGgoKCAgBEgRY3X4YDAsQne3BCRqLAQoWCgNkb3TapYj2AwsKCS9tLzAyN2N0ZwobCgh2ZXJ0aWNhbNqliPYDCwoJL2EvNGhoM3AwChsKCGxhbmd1YWdl2qWI9gMLCgkvai8yc2hfeTQKHQoKaG9yaXpvbnRhbNqliPYDCwoJL2EvMm1xdnpjChgKBWVtcHR52qWI9gMLCgkvYS9kcjFxd20M&q=world+marketing+group&tbm=isch&sa=X&ved=2ahUKEwj15a7F5Jj7AhXNEGIAHXVkBxkQ5r0BegQIGBAA#imgrc=nCyClIk5QHrW-M',\n",
       "  'source': 'https://www.semanticscholar.org/paper/A-Template-based-Abstractive-Meeting-Summarization%3A-Oya-Mehdad/36c8efcc8df6f63166d5e7b59610277ed8a31ea6',\n",
       "  'thumbnail': 'https://serpapi.com/searches/636741111988e530e9c6f807/images/a8761f2ba0ab0f013156692ce4d89f5b97d7b0ea29e4fc4c54857b97282cdd6a.png'},\n",
       " {'link': 'https://www.google.com/search?tbs=simg%3ACAES9wEJCeN-Bvte8fca6wELELCMpwgaOgo4CAQSFKY10hf0J4EBmyaGK-4HkxnBN6UvGhr7dpRMM-ougJM5tRm4_1zLe5MaHlkL4Q_1diGyAFMAQMCxCOrv4IGgoKCAgBEgRY3X4YDAsQne3BCRqLAQoWCgNkb3TapYj2AwsKCS9tLzAyN2N0ZwobCgh2ZXJ0aWNhbNqliPYDCwoJL2EvNGhoM3AwChsKCGxhbmd1YWdl2qWI9gMLCgkvai8yc2hfeTQKHQoKaG9yaXpvbnRhbNqliPYDCwoJL2EvMm1xdnpjChgKBWVtcHR52qWI9gMLCgkvYS9kcjFxd20M&q=world+marketing+group&tbm=isch&sa=X&ved=2ahUKEwj15a7F5Jj7AhXNEGIAHXVkBxkQ5r0BegQIHRAA#imgrc=S2yZuUFfmh0IlM',\n",
       "  'source': 'https://speakerdeck.com/wptoronto/effective-marketing-in-a-digital-world-brad-munro',\n",
       "  'thumbnail': 'https://serpapi.com/searches/636741111988e530e9c6f807/images/a8761f2ba0ab0f01e19b412a607bc69c1cbaf2e25fb323e7f9e3a47761290273.jpeg'},\n",
       " {'link': 'https://www.google.com/search?tbs=simg%3ACAES9wEJCeN-Bvte8fca6wELELCMpwgaOgo4CAQSFKY10hf0J4EBmyaGK-4HkxnBN6UvGhr7dpRMM-ougJM5tRm4_1zLe5MaHlkL4Q_1diGyAFMAQMCxCOrv4IGgoKCAgBEgRY3X4YDAsQne3BCRqLAQoWCgNkb3TapYj2AwsKCS9tLzAyN2N0ZwobCgh2ZXJ0aWNhbNqliPYDCwoJL2EvNGhoM3AwChsKCGxhbmd1YWdl2qWI9gMLCgkvai8yc2hfeTQKHQoKaG9yaXpvbnRhbNqliPYDCwoJL2EvMm1xdnpjChgKBWVtcHR52qWI9gMLCgkvYS9kcjFxd20M&q=world+marketing+group&tbm=isch&sa=X&ved=2ahUKEwj15a7F5Jj7AhXNEGIAHXVkBxkQ5r0BegQIIhAA#imgrc=nsBBZAmAMPHn1M',\n",
       "  'source': 'https://slidetodoc.com/deciding-on-toc-the-holistic-approach-to-business/',\n",
       "  'thumbnail': 'https://serpapi.com/searches/636741111988e530e9c6f807/images/a8761f2ba0ab0f016fd9a50656d7056118d0d6ce0651eb46a22d8e6fb2841235.jpeg'},\n",
       " {'link': 'https://www.google.com/search?tbs=simg%3ACAES9wEJCeN-Bvte8fca6wELELCMpwgaOgo4CAQSFKY10hf0J4EBmyaGK-4HkxnBN6UvGhr7dpRMM-ougJM5tRm4_1zLe5MaHlkL4Q_1diGyAFMAQMCxCOrv4IGgoKCAgBEgRY3X4YDAsQne3BCRqLAQoWCgNkb3TapYj2AwsKCS9tLzAyN2N0ZwobCgh2ZXJ0aWNhbNqliPYDCwoJL2EvNGhoM3AwChsKCGxhbmd1YWdl2qWI9gMLCgkvai8yc2hfeTQKHQoKaG9yaXpvbnRhbNqliPYDCwoJL2EvMm1xdnpjChgKBWVtcHR52qWI9gMLCgkvYS9kcjFxd20M&q=world+marketing+group&tbm=isch&sa=X&ved=2ahUKEwj15a7F5Jj7AhXNEGIAHXVkBxkQ5r0BegQIEhAA#imgrc=LKtu3yHXepYYNM',\n",
       "  'source': 'https://slideplayer.com/slide/10118945/',\n",
       "  'thumbnail': 'https://serpapi.com/searches/636741111988e530e9c6f807/images/a8761f2ba0ab0f01e5c0ede25fa71f4eeb1a363dac4cb06775c641fae1714581.jpeg'},\n",
       " {'link': 'https://www.google.com/search?tbs=simg%3ACAES9wEJCeN-Bvte8fca6wELELCMpwgaOgo4CAQSFKY10hf0J4EBmyaGK-4HkxnBN6UvGhr7dpRMM-ougJM5tRm4_1zLe5MaHlkL4Q_1diGyAFMAQMCxCOrv4IGgoKCAgBEgRY3X4YDAsQne3BCRqLAQoWCgNkb3TapYj2AwsKCS9tLzAyN2N0ZwobCgh2ZXJ0aWNhbNqliPYDCwoJL2EvNGhoM3AwChsKCGxhbmd1YWdl2qWI9gMLCgkvai8yc2hfeTQKHQoKaG9yaXpvbnRhbNqliPYDCwoJL2EvMm1xdnpjChgKBWVtcHR52qWI9gMLCgkvYS9kcjFxd20M&q=world+marketing+group&tbm=isch&sa=X&ved=2ahUKEwj15a7F5Jj7AhXNEGIAHXVkBxkQ5r0BegQIFhAA#imgrc=mvD9xOSrLyOtvM',\n",
       "  'source': 'https://www.slideteam.net/global-marketing-technologies-b2b-lead-generation-service-targeting-leads-cpb.html',\n",
       "  'thumbnail': 'https://serpapi.com/searches/636741111988e530e9c6f807/images/a8761f2ba0ab0f0134a5d342a06a8321b90877ebfce83c2fc2cdfdd28509f38d.jpeg'},\n",
       " {'link': 'https://www.google.com/search?tbs=simg%3ACAES9wEJCeN-Bvte8fca6wELELCMpwgaOgo4CAQSFKY10hf0J4EBmyaGK-4HkxnBN6UvGhr7dpRMM-ougJM5tRm4_1zLe5MaHlkL4Q_1diGyAFMAQMCxCOrv4IGgoKCAgBEgRY3X4YDAsQne3BCRqLAQoWCgNkb3TapYj2AwsKCS9tLzAyN2N0ZwobCgh2ZXJ0aWNhbNqliPYDCwoJL2EvNGhoM3AwChsKCGxhbmd1YWdl2qWI9gMLCgkvai8yc2hfeTQKHQoKaG9yaXpvbnRhbNqliPYDCwoJL2EvMm1xdnpjChgKBWVtcHR52qWI9gMLCgkvYS9kcjFxd20M&q=world+marketing+group&tbm=isch&sa=X&ved=2ahUKEwj15a7F5Jj7AhXNEGIAHXVkBxkQ5r0BegQIGhAA#imgrc=7mHOjyMuIJAiUM',\n",
       "  'source': 'https://slideplayer.com/slide/10491668/',\n",
       "  'thumbnail': 'https://serpapi.com/searches/636741111988e530e9c6f807/images/a8761f2ba0ab0f01c56fd2e2d83252b0a14f6206f50ba14e44cba4b0f0f800f2.jpeg'},\n",
       " {'link': 'https://www.google.com/search?tbs=simg%3ACAES9wEJCeN-Bvte8fca6wELELCMpwgaOgo4CAQSFKY10hf0J4EBmyaGK-4HkxnBN6UvGhr7dpRMM-ougJM5tRm4_1zLe5MaHlkL4Q_1diGyAFMAQMCxCOrv4IGgoKCAgBEgRY3X4YDAsQne3BCRqLAQoWCgNkb3TapYj2AwsKCS9tLzAyN2N0ZwobCgh2ZXJ0aWNhbNqliPYDCwoJL2EvNGhoM3AwChsKCGxhbmd1YWdl2qWI9gMLCgkvai8yc2hfeTQKHQoKaG9yaXpvbnRhbNqliPYDCwoJL2EvMm1xdnpjChgKBWVtcHR52qWI9gMLCgkvYS9kcjFxd20M&q=world+marketing+group&tbm=isch&sa=X&ved=2ahUKEwj15a7F5Jj7AhXNEGIAHXVkBxkQ5r0BegQIGxAA#imgrc=M_u2Dil3meQ0ZM',\n",
       "  'source': 'https://www.slideshare.net/goodlifetrav/enlight-marketing-group-inc-agency-1',\n",
       "  'thumbnail': 'https://serpapi.com/searches/636741111988e530e9c6f807/images/a8761f2ba0ab0f01ec9cb7368b52a933b1e353b11fc985009e3817cc53bdfd32.jpeg'},\n",
       " {'link': 'https://www.google.com/search?tbs=simg%3ACAES9wEJCeN-Bvte8fca6wELELCMpwgaOgo4CAQSFKY10hf0J4EBmyaGK-4HkxnBN6UvGhr7dpRMM-ougJM5tRm4_1zLe5MaHlkL4Q_1diGyAFMAQMCxCOrv4IGgoKCAgBEgRY3X4YDAsQne3BCRqLAQoWCgNkb3TapYj2AwsKCS9tLzAyN2N0ZwobCgh2ZXJ0aWNhbNqliPYDCwoJL2EvNGhoM3AwChsKCGxhbmd1YWdl2qWI9gMLCgkvai8yc2hfeTQKHQoKaG9yaXpvbnRhbNqliPYDCwoJL2EvMm1xdnpjChgKBWVtcHR52qWI9gMLCgkvYS9kcjFxd20M&q=world+marketing+group&tbm=isch&sa=X&ved=2ahUKEwj15a7F5Jj7AhXNEGIAHXVkBxkQ5r0BegQIHhAA#imgrc=0V-VVNdL2GZKJM',\n",
       "  'source': 'https://www.slideteam.net/world-map-with-business-icons-for-global-marketing-ppt-presentation-slides.html',\n",
       "  'thumbnail': 'https://serpapi.com/searches/636741111988e530e9c6f807/images/a8761f2ba0ab0f016e2f4d69e44af6e1ae6035958e30a2be34e193e20df66e99.jpeg'},\n",
       " {'link': 'https://www.google.com/search?tbs=simg%3ACAES9wEJCeN-Bvte8fca6wELELCMpwgaOgo4CAQSFKY10hf0J4EBmyaGK-4HkxnBN6UvGhr7dpRMM-ougJM5tRm4_1zLe5MaHlkL4Q_1diGyAFMAQMCxCOrv4IGgoKCAgBEgRY3X4YDAsQne3BCRqLAQoWCgNkb3TapYj2AwsKCS9tLzAyN2N0ZwobCgh2ZXJ0aWNhbNqliPYDCwoJL2EvNGhoM3AwChsKCGxhbmd1YWdl2qWI9gMLCgkvai8yc2hfeTQKHQoKaG9yaXpvbnRhbNqliPYDCwoJL2EvMm1xdnpjChgKBWVtcHR52qWI9gMLCgkvYS9kcjFxd20M&q=world+marketing+group&tbm=isch&sa=X&ved=2ahUKEwj15a7F5Jj7AhXNEGIAHXVkBxkQ5r0BegQIIRAA#imgrc=8VhFZ3t37b0j9M',\n",
       "  'source': 'https://www.researchgate.net/figure/DISTRIBUTION-OF-INTERNET-USERS-IN-THE-WORLD_tbl1_41199486',\n",
       "  'thumbnail': 'https://serpapi.com/searches/636741111988e530e9c6f807/images/a8761f2ba0ab0f0194f3fa7d42e4354deeed8b279151125e09862fb0be52f2fd.png'},\n",
       " {'link': 'https://www.google.com/search?tbs=simg%3ACAES9wEJCeN-Bvte8fca6wELELCMpwgaOgo4CAQSFKY10hf0J4EBmyaGK-4HkxnBN6UvGhr7dpRMM-ougJM5tRm4_1zLe5MaHlkL4Q_1diGyAFMAQMCxCOrv4IGgoKCAgBEgRY3X4YDAsQne3BCRqLAQoWCgNkb3TapYj2AwsKCS9tLzAyN2N0ZwobCgh2ZXJ0aWNhbNqliPYDCwoJL2EvNGhoM3AwChsKCGxhbmd1YWdl2qWI9gMLCgkvai8yc2hfeTQKHQoKaG9yaXpvbnRhbNqliPYDCwoJL2EvMm1xdnpjChgKBWVtcHR52qWI9gMLCgkvYS9kcjFxd20M&q=world+marketing+group&tbm=isch&sa=X&ved=2ahUKEwj15a7F5Jj7AhXNEGIAHXVkBxkQ5r0BegQIIBAA#imgrc=yCIXdG7jX0nv_M',\n",
       "  'source': 'https://bossjob.ph/company/discover-the-world-marketing-inc-14573',\n",
       "  'thumbnail': 'https://serpapi.com/searches/636741111988e530e9c6f807/images/a8761f2ba0ab0f01bf02ad2369dd06f1381bc1620e7ea6627b3a03374eb6e1cf.png'},\n",
       " {'link': 'https://www.google.com/search?tbs=simg%3ACAES9wEJCeN-Bvte8fca6wELELCMpwgaOgo4CAQSFKY10hf0J4EBmyaGK-4HkxnBN6UvGhr7dpRMM-ougJM5tRm4_1zLe5MaHlkL4Q_1diGyAFMAQMCxCOrv4IGgoKCAgBEgRY3X4YDAsQne3BCRqLAQoWCgNkb3TapYj2AwsKCS9tLzAyN2N0ZwobCgh2ZXJ0aWNhbNqliPYDCwoJL2EvNGhoM3AwChsKCGxhbmd1YWdl2qWI9gMLCgkvai8yc2hfeTQKHQoKaG9yaXpvbnRhbNqliPYDCwoJL2EvMm1xdnpjChgKBWVtcHR52qWI9gMLCgkvYS9kcjFxd20M&q=world+marketing+group&tbm=isch&sa=X&ved=2ahUKEwj15a7F5Jj7AhXNEGIAHXVkBxkQ5r0BegQIHxAA#imgrc=hnZkZEhlacTCsM',\n",
       "  'source': 'https://www.alamy.com/stock-photo/identity-symbols.html?page=37',\n",
       "  'thumbnail': 'https://serpapi.com/searches/636741111988e530e9c6f807/images/a8761f2ba0ab0f01d47469d381426bbe3842866590d454d2b80d467f9db75a5c.png'},\n",
       " {'link': 'https://www.google.com/search?tbs=simg%3ACAES9wEJCeN-Bvte8fca6wELELCMpwgaOgo4CAQSFKY10hf0J4EBmyaGK-4HkxnBN6UvGhr7dpRMM-ougJM5tRm4_1zLe5MaHlkL4Q_1diGyAFMAQMCxCOrv4IGgoKCAgBEgRY3X4YDAsQne3BCRqLAQoWCgNkb3TapYj2AwsKCS9tLzAyN2N0ZwobCgh2ZXJ0aWNhbNqliPYDCwoJL2EvNGhoM3AwChsKCGxhbmd1YWdl2qWI9gMLCgkvai8yc2hfeTQKHQoKaG9yaXpvbnRhbNqliPYDCwoJL2EvMm1xdnpjChgKBWVtcHR52qWI9gMLCgkvYS9kcjFxd20M&q=world+marketing+group&tbm=isch&sa=X&ved=2ahUKEwj15a7F5Jj7AhXNEGIAHXVkBxkQ5r0BegQIFBAA#imgrc=EU-3bfcPEFVAeM',\n",
       "  'source': 'https://www.datocapital.ky/companies/World-Marketing-Inc.html',\n",
       "  'thumbnail': 'https://serpapi.com/searches/636741111988e530e9c6f807/images/a8761f2ba0ab0f01873a28022d713958ea757d267a6ee2cc67945bfb8a34dffe.png'},\n",
       " {'link': 'https://www.google.com/search?tbs=simg%3ACAES9wEJCeN-Bvte8fca6wELELCMpwgaOgo4CAQSFKY10hf0J4EBmyaGK-4HkxnBN6UvGhr7dpRMM-ougJM5tRm4_1zLe5MaHlkL4Q_1diGyAFMAQMCxCOrv4IGgoKCAgBEgRY3X4YDAsQne3BCRqLAQoWCgNkb3TapYj2AwsKCS9tLzAyN2N0ZwobCgh2ZXJ0aWNhbNqliPYDCwoJL2EvNGhoM3AwChsKCGxhbmd1YWdl2qWI9gMLCgkvai8yc2hfeTQKHQoKaG9yaXpvbnRhbNqliPYDCwoJL2EvMm1xdnpjChgKBWVtcHR52qWI9gMLCgkvYS9kcjFxd20M&q=world+marketing+group&tbm=isch&sa=X&ved=2ahUKEwj15a7F5Jj7AhXNEGIAHXVkBxkQ5r0BegQIFRAA#imgrc=k4ETC5gcu8uiXM',\n",
       "  'source': 'https://www.numerade.com/ask/question/binomial-distributions-are-discrete-distributions-and-allow-us-to-deal-with-circumstances-in-which-the-outcomes-can-be-classified-as-either-success-or-failure-consider-the-following-the-fast-34504/',\n",
       "  'thumbnail': 'https://serpapi.com/searches/636741111988e530e9c6f807/images/a8761f2ba0ab0f01be6888d9988d9efd60583a2cb04e79b6575ee00810758451.png'},\n",
       " {'link': 'https://www.google.com/search?tbs=simg%3ACAES9wEJCeN-Bvte8fca6wELELCMpwgaOgo4CAQSFKY10hf0J4EBmyaGK-4HkxnBN6UvGhr7dpRMM-ougJM5tRm4_1zLe5MaHlkL4Q_1diGyAFMAQMCxCOrv4IGgoKCAgBEgRY3X4YDAsQne3BCRqLAQoWCgNkb3TapYj2AwsKCS9tLzAyN2N0ZwobCgh2ZXJ0aWNhbNqliPYDCwoJL2EvNGhoM3AwChsKCGxhbmd1YWdl2qWI9gMLCgkvai8yc2hfeTQKHQoKaG9yaXpvbnRhbNqliPYDCwoJL2EvMm1xdnpjChgKBWVtcHR52qWI9gMLCgkvYS9kcjFxd20M&q=world+marketing+group&tbm=isch&sa=X&ved=2ahUKEwj15a7F5Jj7AhXNEGIAHXVkBxkQ5r0BegQIFxAA#imgrc=ZDvvUVMl8CcpaM',\n",
       "  'source': 'https://namesfrog.com/digital-marketing-company-name-ideas/',\n",
       "  'thumbnail': 'https://serpapi.com/searches/636741111988e530e9c6f807/images/a8761f2ba0ab0f01af78c47ba4e4df4cd57261347dfab4fe0bdb6246f8a12a17.jpeg'},\n",
       " {'link': 'https://www.google.com/search?tbs=simg%3ACAES9wEJCeN-Bvte8fca6wELELCMpwgaOgo4CAQSFKY10hf0J4EBmyaGK-4HkxnBN6UvGhr7dpRMM-ougJM5tRm4_1zLe5MaHlkL4Q_1diGyAFMAQMCxCOrv4IGgoKCAgBEgRY3X4YDAsQne3BCRqLAQoWCgNkb3TapYj2AwsKCS9tLzAyN2N0ZwobCgh2ZXJ0aWNhbNqliPYDCwoJL2EvNGhoM3AwChsKCGxhbmd1YWdl2qWI9gMLCgkvai8yc2hfeTQKHQoKaG9yaXpvbnRhbNqliPYDCwoJL2EvMm1xdnpjChgKBWVtcHR52qWI9gMLCgkvYS9kcjFxd20M&q=world+marketing+group&tbm=isch&sa=X&ved=2ahUKEwj15a7F5Jj7AhXNEGIAHXVkBxkQ5r0BegQIGRAA#imgrc=4IT4acflBiLYKM',\n",
       "  'source': 'https://www.slideshare.net/charmindaratnayakage/social-media-is-the-emerging-martketing-tool-26385667',\n",
       "  'thumbnail': 'https://serpapi.com/searches/636741111988e530e9c6f807/images/a8761f2ba0ab0f017618e508be68b91bdd2541c2c5798d463b235ebae052859a.jpeg'},\n",
       " {'link': 'https://www.google.com/search?tbs=simg%3ACAES9wEJCeN-Bvte8fca6wELELCMpwgaOgo4CAQSFKY10hf0J4EBmyaGK-4HkxnBN6UvGhr7dpRMM-ougJM5tRm4_1zLe5MaHlkL4Q_1diGyAFMAQMCxCOrv4IGgoKCAgBEgRY3X4YDAsQne3BCRqLAQoWCgNkb3TapYj2AwsKCS9tLzAyN2N0ZwobCgh2ZXJ0aWNhbNqliPYDCwoJL2EvNGhoM3AwChsKCGxhbmd1YWdl2qWI9gMLCgkvai8yc2hfeTQKHQoKaG9yaXpvbnRhbNqliPYDCwoJL2EvMm1xdnpjChgKBWVtcHR52qWI9gMLCgkvYS9kcjFxd20M&q=world+marketing+group&tbm=isch&sa=X&ved=2ahUKEwj15a7F5Jj7AhXNEGIAHXVkBxkQ5r0BegQIDxAA#imgrc=NZSKZSxwPKauJM',\n",
       "  'source': 'https://en.datocapital.com.pa/companies/Global-Marketing-Group-Inc.html',\n",
       "  'thumbnail': 'https://serpapi.com/searches/636741111988e530e9c6f807/images/a8761f2ba0ab0f0165f2860eb4d30449f6ad332a6ce48e6c6efbb48bdb1875f9.png'},\n",
       " {'link': 'https://www.google.com/search?tbs=simg%3ACAES9wEJCeN-Bvte8fca6wELELCMpwgaOgo4CAQSFKY10hf0J4EBmyaGK-4HkxnBN6UvGhr7dpRMM-ougJM5tRm4_1zLe5MaHlkL4Q_1diGyAFMAQMCxCOrv4IGgoKCAgBEgRY3X4YDAsQne3BCRqLAQoWCgNkb3TapYj2AwsKCS9tLzAyN2N0ZwobCgh2ZXJ0aWNhbNqliPYDCwoJL2EvNGhoM3AwChsKCGxhbmd1YWdl2qWI9gMLCgkvai8yc2hfeTQKHQoKaG9yaXpvbnRhbNqliPYDCwoJL2EvMm1xdnpjChgKBWVtcHR52qWI9gMLCgkvYS9kcjFxd20M&q=world+marketing+group&tbm=isch&sa=X&ved=2ahUKEwj15a7F5Jj7AhXNEGIAHXVkBxkQ5r0BegQIDRAA#imgrc=O13MrV07KeeCLM',\n",
       "  'source': 'https://www.slideteam.net/global-marketing-team-discussing-business-opportunities-around-team-table.html',\n",
       "  'thumbnail': 'https://serpapi.com/searches/636741111988e530e9c6f807/images/a8761f2ba0ab0f01be5040df446e46e7f8b083d219c957ecfec23ae60d2932f7.jpeg'},\n",
       " {'link': 'https://www.google.com/search?tbs=simg%3ACAES9wEJCeN-Bvte8fca6wELELCMpwgaOgo4CAQSFKY10hf0J4EBmyaGK-4HkxnBN6UvGhr7dpRMM-ougJM5tRm4_1zLe5MaHlkL4Q_1diGyAFMAQMCxCOrv4IGgoKCAgBEgRY3X4YDAsQne3BCRqLAQoWCgNkb3TapYj2AwsKCS9tLzAyN2N0ZwobCgh2ZXJ0aWNhbNqliPYDCwoJL2EvNGhoM3AwChsKCGxhbmd1YWdl2qWI9gMLCgkvai8yc2hfeTQKHQoKaG9yaXpvbnRhbNqliPYDCwoJL2EvMm1xdnpjChgKBWVtcHR52qWI9gMLCgkvYS9kcjFxd20M&q=world+marketing+group&tbm=isch&sa=X&ved=2ahUKEwj15a7F5Jj7AhXNEGIAHXVkBxkQ5r0BegQICxAA#imgrc=hPAgFXlQ3ckBfM',\n",
       "  'source': 'https://www.slideshare.net/tangyslice/world-class-marketing-team',\n",
       "  'thumbnail': 'https://serpapi.com/searches/636741111988e530e9c6f807/images/a8761f2ba0ab0f01e9a274f70938a10b6326cff847fafb8bf5fd7bf9add085ac.jpeg'},\n",
       " {'link': 'https://www.google.com/search?tbs=simg%3ACAES9wEJCeN-Bvte8fca6wELELCMpwgaOgo4CAQSFKY10hf0J4EBmyaGK-4HkxnBN6UvGhr7dpRMM-ougJM5tRm4_1zLe5MaHlkL4Q_1diGyAFMAQMCxCOrv4IGgoKCAgBEgRY3X4YDAsQne3BCRqLAQoWCgNkb3TapYj2AwsKCS9tLzAyN2N0ZwobCgh2ZXJ0aWNhbNqliPYDCwoJL2EvNGhoM3AwChsKCGxhbmd1YWdl2qWI9gMLCgkvai8yc2hfeTQKHQoKaG9yaXpvbnRhbNqliPYDCwoJL2EvMm1xdnpjChgKBWVtcHR52qWI9gMLCgkvYS9kcjFxd20M&q=world+marketing+group&tbm=isch&sa=X&ved=2ahUKEwj15a7F5Jj7AhXNEGIAHXVkBxkQ5r0BegQIDBAA#imgrc=XJSWBtG8g0SZaM',\n",
       "  'source': 'https://www.slidegeeks.com/business/product/doing-business-global-marketing-ppt-example',\n",
       "  'thumbnail': 'https://serpapi.com/searches/636741111988e530e9c6f807/images/a8761f2ba0ab0f01d1c648e89b48df164331d316165d9fd53bf37365729c190d.jpeg'},\n",
       " {'link': 'https://www.google.com/search?tbs=simg%3ACAES9wEJCeN-Bvte8fca6wELELCMpwgaOgo4CAQSFKY10hf0J4EBmyaGK-4HkxnBN6UvGhr7dpRMM-ougJM5tRm4_1zLe5MaHlkL4Q_1diGyAFMAQMCxCOrv4IGgoKCAgBEgRY3X4YDAsQne3BCRqLAQoWCgNkb3TapYj2AwsKCS9tLzAyN2N0ZwobCgh2ZXJ0aWNhbNqliPYDCwoJL2EvNGhoM3AwChsKCGxhbmd1YWdl2qWI9gMLCgkvai8yc2hfeTQKHQoKaG9yaXpvbnRhbNqliPYDCwoJL2EvMm1xdnpjChgKBWVtcHR52qWI9gMLCgkvYS9kcjFxd20M&q=world+marketing+group&tbm=isch&sa=X&ved=2ahUKEwj15a7F5Jj7AhXNEGIAHXVkBxkQ5r0BegQICRAA#imgrc=_R0l7yC9J0DeDM',\n",
       "  'source': 'https://www.slideteam.net/global-marketing-team-discussing-business-opportunities-around-team-table.html',\n",
       "  'thumbnail': 'https://serpapi.com/searches/636741111988e530e9c6f807/images/a8761f2ba0ab0f01b10461108f092599711bbdeb4ac26d8672d2048d8ca39ca9.jpeg'},\n",
       " {'link': 'https://www.google.com/search?tbs=simg%3ACAES9wEJCeN-Bvte8fca6wELELCMpwgaOgo4CAQSFKY10hf0J4EBmyaGK-4HkxnBN6UvGhr7dpRMM-ougJM5tRm4_1zLe5MaHlkL4Q_1diGyAFMAQMCxCOrv4IGgoKCAgBEgRY3X4YDAsQne3BCRqLAQoWCgNkb3TapYj2AwsKCS9tLzAyN2N0ZwobCgh2ZXJ0aWNhbNqliPYDCwoJL2EvNGhoM3AwChsKCGxhbmd1YWdl2qWI9gMLCgkvai8yc2hfeTQKHQoKaG9yaXpvbnRhbNqliPYDCwoJL2EvMm1xdnpjChgKBWVtcHR52qWI9gMLCgkvYS9kcjFxd20M&q=world+marketing+group&tbm=isch&sa=X&ved=2ahUKEwj15a7F5Jj7AhXNEGIAHXVkBxkQ5r0BegQICBAA#imgrc=N1WaEx50Cn64TM',\n",
       "  'source': 'https://www.alignable.com/nashville-tn/zamek-world-marketing-inc',\n",
       "  'thumbnail': 'https://serpapi.com/searches/636741111988e530e9c6f807/images/a8761f2ba0ab0f0158f73edaf440e3a6b4adfcce0ec7f60de4cb2ab84802ee53.png'},\n",
       " {'link': 'https://www.google.com/search?tbs=simg%3ACAES9wEJCeN-Bvte8fca6wELELCMpwgaOgo4CAQSFKY10hf0J4EBmyaGK-4HkxnBN6UvGhr7dpRMM-ougJM5tRm4_1zLe5MaHlkL4Q_1diGyAFMAQMCxCOrv4IGgoKCAgBEgRY3X4YDAsQne3BCRqLAQoWCgNkb3TapYj2AwsKCS9tLzAyN2N0ZwobCgh2ZXJ0aWNhbNqliPYDCwoJL2EvNGhoM3AwChsKCGxhbmd1YWdl2qWI9gMLCgkvai8yc2hfeTQKHQoKaG9yaXpvbnRhbNqliPYDCwoJL2EvMm1xdnpjChgKBWVtcHR52qWI9gMLCgkvYS9kcjFxd20M&q=world+marketing+group&tbm=isch&sa=X&ved=2ahUKEwj15a7F5Jj7AhXNEGIAHXVkBxkQ5r0BegQIChAA#imgrc=w03ASi4tCi4mBM',\n",
       "  'source': 'https://www.datocapital.com.pa/empresas/World-Marketing-Inc.html',\n",
       "  'thumbnail': 'https://serpapi.com/searches/636741111988e530e9c6f807/images/a8761f2ba0ab0f0193bc836c3b7a1a66c700c4cca9b1205c47a9729ce6046bff.png'}]"
      ]
     },
     "execution_count": 5,
     "metadata": {},
     "output_type": "execute_result"
    }
   ],
   "source": [
    "import config\n",
    "from serpapi import GoogleSearch\n",
    "link = \"https://media.discordapp.net/attachments/1038541888447332527/1038580682315800627/image.png\"\n",
    "params = {\n",
    "\t\"engine\": \"google_reverse_image\",\n",
    "\t\"image_url\": link,\n",
    "\t\"api_key\": config.serpapi\n",
    "\t}\n",
    "search = GoogleSearch(params)\n",
    "search.get_dict()[\"inline_images\"]    "
   ]
  }
 ],
 "metadata": {
  "kernelspec": {
   "display_name": "Python 3.10.6 64-bit",
   "language": "python",
   "name": "python3"
  },
  "language_info": {
   "codemirror_mode": {
    "name": "ipython",
    "version": 3
   },
   "file_extension": ".py",
   "mimetype": "text/x-python",
   "name": "python",
   "nbconvert_exporter": "python",
   "pygments_lexer": "ipython3",
   "version": "3.10.6"
  },
  "orig_nbformat": 4,
  "vscode": {
   "interpreter": {
    "hash": "18f4071d0c1c9f4605820e9ca0262fe279d59ea8ec866b1cbc7fb12a69a97d2a"
   }
  }
 },
 "nbformat": 4,
 "nbformat_minor": 2
}
