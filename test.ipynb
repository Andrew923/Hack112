{
 "cells": [
  {
   "cell_type": "code",
   "execution_count": 67,
   "metadata": {},
   "outputs": [
    {
     "data": {
      "text/plain": [
       "'\\niiint_R\\nfrac\\npartial Q\\npartial x-\\nfrac\\npartial P\\npartial Q'"
      ]
     },
     "execution_count": 67,
     "metadata": {},
     "output_type": "execute_result"
    }
   ],
   "source": [
    "from pylatexenc.latex2text import LatexNodes2Text\n",
    "\n",
    "LatexNodes2Text().latex_to_text(r\"\\\\iiint_{R}{\\\\frac{\\\\partial Q}{\\\\partial x}}-{\\\\frac{\\\\partial P}{\\\\partial Q}}\")"
   ]
  },
  {
   "cell_type": "code",
   "execution_count": 66,
   "metadata": {},
   "outputs": [
    {
     "name": "stdout",
     "output_type": "stream",
     "text": [
      "https://latex.codecogs.com/png.latex?\\bg_white&space;x&space;=&space;=\\iiint_{R}{\\frac{\\partial&spaceQ}{\\partial&spacex}}-{\\frac{\\partial&spaceP}{\\partial&spaceQ}}\n"
     ]
    }
   ],
   "source": [
    "latex = r\"=\\iiint_{R}{\\frac{\\partial Q}{\\partial x}}-{\\frac{\\partial P}{\\partial Q}}\"\n",
    "url = r\"https://latex.codecogs.com/png.latex?\\bg_white&space;x&space;=&space;\"\n",
    "#replacements to not fuck up url\n",
    "replacements = {'(': '\\(', ')': '\\)', ' ': '&space'}\n",
    "for r in replacements:\n",
    "    latex = latex.replace(r, replacements[r])\n",
    "# latex.encode('unicode_escape')\n",
    "print(url + latex)"
   ]
  },
  {
   "cell_type": "code",
   "execution_count": 59,
   "metadata": {},
   "outputs": [
    {
     "name": "stdout",
     "output_type": "stream",
     "text": [
      "https://latex.codecogs.com/png.latex?\\bg_white&space;x&space;=&space;\\frac{4}{5}&plus;\\pi\\Omega\\int_{2\\pi}^{\\infty}{5\\left\\(\\frac{\\tau&plus;3}{2}\\right\\)d\\omega}\n"
     ]
    }
   ],
   "source": [
    "print(r\"https://latex.codecogs.com/png.latex?\\bg_white&space;x&space;=&space;\" + r\"\\frac{4}{5}&plus;\\pi\\Omega\\int_{2\\pi}^{\\infty}{5\\left\\(\\frac{\\tau&plus;3}{2}\\right\\)d\\omega}\")"
   ]
  }
 ],
 "metadata": {
  "kernelspec": {
   "display_name": "Python 3.10.6 64-bit",
   "language": "python",
   "name": "python3"
  },
  "language_info": {
   "codemirror_mode": {
    "name": "ipython",
    "version": 3
   },
   "file_extension": ".py",
   "mimetype": "text/x-python",
   "name": "python",
   "nbconvert_exporter": "python",
   "pygments_lexer": "ipython3",
   "version": "3.10.6"
  },
  "orig_nbformat": 4,
  "vscode": {
   "interpreter": {
    "hash": "18f4071d0c1c9f4605820e9ca0262fe279d59ea8ec866b1cbc7fb12a69a97d2a"
   }
  }
 },
 "nbformat": 4,
 "nbformat_minor": 2
}
